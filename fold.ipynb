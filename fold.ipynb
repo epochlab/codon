{
 "cells": [
  {
   "cell_type": "markdown",
   "id": "531bf8b9",
   "metadata": {},
   "source": [
    "# Protein Folding | EPOCH Lab 2022"
   ]
  },
  {
   "cell_type": "code",
   "execution_count": 1,
   "id": "cc4a0eac",
   "metadata": {},
   "outputs": [
    {
     "data": {
      "application/vnd.jupyter.widget-view+json": {
       "model_id": "6bb4adf9361040d68966653ea457ec95",
       "version_major": 2,
       "version_minor": 0
      },
      "text/plain": []
     },
     "metadata": {},
     "output_type": "display_data"
    }
   ],
   "source": [
    "from openmm.app import *\n",
    "from openmm import *\n",
    "from openmm.unit import *\n",
    "from sys import stdout\n",
    "\n",
    "import nglview as nv"
   ]
  },
  {
   "cell_type": "code",
   "execution_count": 2,
   "id": "da0a38b8",
   "metadata": {},
   "outputs": [],
   "source": [
    "try:\n",
    "    platform = Platform.getPlatformByName(\"CUDA\")\n",
    "except Exception:\n",
    "    platform = Platform.getPlatformByName(\"OpenCL\")"
   ]
  },
  {
   "cell_type": "code",
   "execution_count": 3,
   "id": "ede06fee",
   "metadata": {},
   "outputs": [],
   "source": [
    "pdb = PDBFile('pdb/input.pdb')\n",
    "forcefield = ForceField('amber99sb.xml', 'tip3p.xml')"
   ]
  },
  {
   "cell_type": "code",
   "execution_count": 4,
   "id": "a253440b",
   "metadata": {},
   "outputs": [
    {
     "data": {
      "text/plain": [
       "<Topology; 1 chains, 2798 residues, 8867 atoms, 6111 bonds>"
      ]
     },
     "execution_count": 4,
     "metadata": {},
     "output_type": "execute_result"
    }
   ],
   "source": [
    "modeller = Modeller(pdb.topology, pdb.positions)\n",
    "# modeller.addHydrogens(forcefield)\n",
    "modeller.topology"
   ]
  },
  {
   "cell_type": "code",
   "execution_count": 5,
   "id": "7d1c2a2d",
   "metadata": {},
   "outputs": [
    {
     "data": {
      "text/plain": [
       "[]"
      ]
     },
     "execution_count": 5,
     "metadata": {},
     "output_type": "execute_result"
    }
   ],
   "source": [
    "unmatched_residues = forcefield.getUnmatchedResidues(modeller.topology)\n",
    "unmatched_residues"
   ]
  },
  {
   "cell_type": "code",
   "execution_count": 6,
   "id": "2c784187",
   "metadata": {
    "scrolled": true
   },
   "outputs": [],
   "source": [
    "system = forcefield.createSystem(modeller.topology,\n",
    "                                 nonbondedMethod=PME,\n",
    "                                 nonbondedCutoff=1*nanometer,\n",
    "                                 constraints=HBonds)"
   ]
  },
  {
   "cell_type": "code",
   "execution_count": 7,
   "id": "02f610a5",
   "metadata": {},
   "outputs": [],
   "source": [
    "integrator = LangevinIntegrator(300*kelvin, 1/picosecond, 0.002*picoseconds)"
   ]
  },
  {
   "cell_type": "code",
   "execution_count": 8,
   "id": "df675c88",
   "metadata": {},
   "outputs": [],
   "source": [
    "simulation = Simulation(modeller.topology, system, integrator, platform)\n",
    "simulation.context.setPositions(modeller.positions)\n",
    "simulation.minimizeEnergy()\n",
    "simulation.reporters.append(PDBReporter('/tmp/output.pdb', 1000))\n",
    "simulation.reporters.append(StateDataReporter(stdout, 1000, step=True, potentialEnergy=True, temperature=True))"
   ]
  },
  {
   "cell_type": "code",
   "execution_count": 9,
   "id": "5c29dcb9",
   "metadata": {},
   "outputs": [
    {
     "name": "stdout",
     "output_type": "stream",
     "text": [
      "#\"Step\",\"Potential Energy (kJ/mole)\",\"Temperature (K)\"\n",
      "1000,-124389.91141541512,251.26102950530648\n",
      "2000,-117876.97391541512,283.8223793219209\n",
      "3000,-115399.75516541512,295.6022105087631\n",
      "4000,-115659.16141541512,298.6641407401495\n",
      "5000,-115608.16141541512,300.54441207260265\n",
      "6000,-115763.56766541512,297.28625628512356\n",
      "7000,-115442.31766541512,294.95534060475615\n",
      "8000,-115630.94266541512,295.94394783976696\n",
      "9000,-115604.50516541512,298.2841683518243\n",
      "10000,-115149.72391541512,303.8256980679343\n"
     ]
    }
   ],
   "source": [
    "simulation.step(10000)"
   ]
  },
  {
   "cell_type": "code",
   "execution_count": 10,
   "id": "e66273c4",
   "metadata": {},
   "outputs": [
    {
     "data": {
      "application/vnd.jupyter.widget-view+json": {
       "model_id": "228c21dd62b64c7eb0033ac04314e8a9",
       "version_major": 2,
       "version_minor": 0
      },
      "text/plain": [
       "NGLWidget()"
      ]
     },
     "metadata": {},
     "output_type": "display_data"
    }
   ],
   "source": [
    "view = nv.show_file('/tmp/output.pdb')\n",
    "view"
   ]
  }
 ],
 "metadata": {
  "kernelspec": {
   "display_name": "Python 3 (ipykernel)",
   "language": "python",
   "name": "python3"
  },
  "language_info": {
   "codemirror_mode": {
    "name": "ipython",
    "version": 3
   },
   "file_extension": ".py",
   "mimetype": "text/x-python",
   "name": "python",
   "nbconvert_exporter": "python",
   "pygments_lexer": "ipython3",
   "version": "3.8.13"
  }
 },
 "nbformat": 4,
 "nbformat_minor": 5
}
