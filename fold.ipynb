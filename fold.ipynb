{
 "cells": [
  {
   "cell_type": "markdown",
   "id": "cd773783",
   "metadata": {},
   "source": [
    "# Protein Folding | EPOCH Lab 2022"
   ]
  },
  {
   "cell_type": "code",
   "execution_count": 1,
   "id": "6ec7c98a",
   "metadata": {},
   "outputs": [
    {
     "data": {
      "application/vnd.jupyter.widget-view+json": {
       "model_id": "0c4c0ccf08b046858a854583aea158cd",
       "version_major": 2,
       "version_minor": 0
      },
      "text/plain": []
     },
     "metadata": {},
     "output_type": "display_data"
    }
   ],
   "source": [
    "%matplotlib inline\n",
    "\n",
    "from openmm.app import *\n",
    "from openmm import *\n",
    "from openmm.unit import *\n",
    "from sys import stdout\n",
    "\n",
    "import nglview as nv"
   ]
  },
  {
   "cell_type": "code",
   "execution_count": 2,
   "id": "65c572fa",
   "metadata": {},
   "outputs": [],
   "source": [
    "try:\n",
    "  platform = Platform.getPlatformByName(\"CUDA\")\n",
    "except Exception:\n",
    "  platform = Platform.getPlatformByName(\"OpenCL\")"
   ]
  },
  {
   "cell_type": "code",
   "execution_count": 3,
   "id": "6065ab03",
   "metadata": {},
   "outputs": [],
   "source": [
    "pdb = PDBFile('pdb/input.pdb')\n",
    "forcefield = ForceField('amber99sb.xml', 'tip3p.xml')"
   ]
  },
  {
   "cell_type": "code",
   "execution_count": 4,
   "id": "cf8447fc",
   "metadata": {},
   "outputs": [
    {
     "data": {
      "text/plain": [
       "<Topology; 1 chains, 2798 residues, 8867 atoms, 6111 bonds>"
      ]
     },
     "execution_count": 4,
     "metadata": {},
     "output_type": "execute_result"
    }
   ],
   "source": [
    "modeller = Modeller(pdb.topology, pdb.positions)\n",
    "modeller.addHydrogens(forcefield)\n",
    "modeller.topology"
   ]
  },
  {
   "cell_type": "code",
   "execution_count": 5,
   "id": "28dcdb4b",
   "metadata": {},
   "outputs": [],
   "source": [
    "system = forcefield.createSystem(modeller.topology,\n",
    "                                 nonbondedMethod=PME,\n",
    "                                 nonbondedCutoff=1*nanometer,\n",
    "                                 constraints=HBonds)"
   ]
  },
  {
   "cell_type": "code",
   "execution_count": 6,
   "id": "9124897a",
   "metadata": {},
   "outputs": [],
   "source": [
    "integrator = LangevinIntegrator(300*kelvin, 1/picosecond, 0.002*picoseconds)"
   ]
  },
  {
   "cell_type": "code",
   "execution_count": 7,
   "id": "b7dc2d4f",
   "metadata": {},
   "outputs": [],
   "source": [
    "simulation = Simulation(modeller.topology, system, integrator, platform)\n",
    "simulation.context.setPositions(modeller.positions)\n",
    "simulation.minimizeEnergy()\n",
    "simulation.reporters.append(PDBReporter('tmp/output.pdb', 1000))\n",
    "simulation.reporters.append(StateDataReporter(stdout, 1000, step=True, potentialEnergy=True, temperature=True))"
   ]
  },
  {
   "cell_type": "code",
   "execution_count": 8,
   "id": "afbb50b0",
   "metadata": {},
   "outputs": [
    {
     "name": "stdout",
     "output_type": "stream",
     "text": [
      "#\"Step\",\"Potential Energy (kJ/mole)\",\"Temperature (K)\"\n",
      "1000,-123842.50516541512,252.09588988131065\n",
      "2000,-117605.13016541512,287.8753722339878\n",
      "3000,-116443.97391541512,299.486499856896\n",
      "4000,-115867.22391541512,296.79508022113924\n",
      "5000,-115104.91141541512,294.34671079393956\n",
      "6000,-114993.44266541512,299.26907137319915\n",
      "7000,-115221.66141541512,302.6176220003817\n",
      "8000,-115224.78641541512,300.3566512154509\n",
      "9000,-115337.03641541512,299.2173948114811\n",
      "10000,-115279.41141541512,298.18311416441594\n"
     ]
    }
   ],
   "source": [
    "simulation.step(10000)"
   ]
  },
  {
   "cell_type": "code",
   "execution_count": 9,
   "id": "6fa1b55d",
   "metadata": {},
   "outputs": [
    {
     "data": {
      "application/vnd.jupyter.widget-view+json": {
       "model_id": "915e4047133d473c9b7117d5cdf7ce0b",
       "version_major": 2,
       "version_minor": 0
      },
      "text/plain": [
       "NGLWidget()"
      ]
     },
     "metadata": {},
     "output_type": "display_data"
    }
   ],
   "source": [
    "view = nv.show_file('pdb/6vyb.pdb')\n",
    "view"
   ]
  }
 ],
 "metadata": {
  "kernelspec": {
   "display_name": "Python 3 (ipykernel)",
   "language": "python",
   "name": "python3"
  },
  "language_info": {
   "codemirror_mode": {
    "name": "ipython",
    "version": 3
   },
   "file_extension": ".py",
   "mimetype": "text/x-python",
   "name": "python",
   "nbconvert_exporter": "python",
   "pygments_lexer": "ipython3",
   "version": "3.8.13"
  }
 },
 "nbformat": 4,
 "nbformat_minor": 5
}
