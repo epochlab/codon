{
 "cells": [
  {
   "cell_type": "markdown",
   "id": "531bf8b9",
   "metadata": {},
   "source": [
    "# Protein Folding | EPOCH Lab 2022"
   ]
  },
  {
   "cell_type": "code",
   "execution_count": 1,
   "id": "cc4a0eac",
   "metadata": {},
   "outputs": [
    {
     "data": {
      "application/vnd.jupyter.widget-view+json": {
       "model_id": "8af71d41ea6b42fca0fdcf101dfbfed6",
       "version_major": 2,
       "version_minor": 0
      },
      "text/plain": []
     },
     "metadata": {},
     "output_type": "display_data"
    }
   ],
   "source": [
    "%matplotlib inline\n",
    "\n",
    "from openmm.app import *\n",
    "from openmm import *\n",
    "from openmm.unit import *\n",
    "from sys import stdout\n",
    "\n",
    "import nglview as nv"
   ]
  },
  {
   "cell_type": "code",
   "execution_count": 2,
   "id": "da0a38b8",
   "metadata": {},
   "outputs": [],
   "source": [
    "try:\n",
    "  platform = Platform.getPlatformByName(\"CUDA\")\n",
    "except Exception:\n",
    "  platform = Platform.getPlatformByName(\"OpenCL\")"
   ]
  },
  {
   "cell_type": "code",
   "execution_count": 11,
   "id": "ede06fee",
   "metadata": {},
   "outputs": [],
   "source": [
    "pdb = PDBFile('pdb/input.pdb')\n",
    "forcefield = ForceField('amber99sb.xml', 'tip3p.xml')\n",
    "# forcefield = ForceField('amber14-all.xml', 'amber14/tip3pfb.xml')"
   ]
  },
  {
   "cell_type": "code",
   "execution_count": 12,
   "id": "a253440b",
   "metadata": {},
   "outputs": [
    {
     "data": {
      "text/plain": [
       "<Topology; 1 chains, 2798 residues, 8867 atoms, 6111 bonds>"
      ]
     },
     "execution_count": 12,
     "metadata": {},
     "output_type": "execute_result"
    }
   ],
   "source": [
    "modeller = Modeller(pdb.topology, pdb.positions)\n",
    "# modeller.addHydrogens(forcefield)\n",
    "# modeller.addExtraParticles(forcefield)\n",
    "modeller.topology"
   ]
  },
  {
   "cell_type": "code",
   "execution_count": 13,
   "id": "7d1c2a2d",
   "metadata": {},
   "outputs": [
    {
     "data": {
      "text/plain": [
       "[]"
      ]
     },
     "execution_count": 13,
     "metadata": {},
     "output_type": "execute_result"
    }
   ],
   "source": [
    "unmatched_residues = forcefield.getUnmatchedResidues(pdb.topology)\n",
    "unmatched_residues"
   ]
  },
  {
   "cell_type": "code",
   "execution_count": 14,
   "id": "2c784187",
   "metadata": {
    "scrolled": true
   },
   "outputs": [],
   "source": [
    "system = forcefield.createSystem(modeller.topology,\n",
    "                                 nonbondedMethod=PME,\n",
    "                                 nonbondedCutoff=1*nanometer,\n",
    "                                 constraints=HBonds)"
   ]
  },
  {
   "cell_type": "code",
   "execution_count": 15,
   "id": "02f610a5",
   "metadata": {},
   "outputs": [],
   "source": [
    "integrator = LangevinIntegrator(300*kelvin, 1/picosecond, 0.002*picoseconds)"
   ]
  },
  {
   "cell_type": "code",
   "execution_count": 16,
   "id": "df675c88",
   "metadata": {},
   "outputs": [],
   "source": [
    "simulation = Simulation(modeller.topology, system, integrator, platform)\n",
    "simulation.context.setPositions(modeller.positions)\n",
    "simulation.minimizeEnergy()\n",
    "simulation.reporters.append(PDBReporter('tmp/output.pdb', 1000))\n",
    "simulation.reporters.append(StateDataReporter(stdout, 1000, step=True, potentialEnergy=True, temperature=True))"
   ]
  },
  {
   "cell_type": "code",
   "execution_count": 17,
   "id": "5c29dcb9",
   "metadata": {},
   "outputs": [
    {
     "name": "stdout",
     "output_type": "stream",
     "text": [
      "#\"Step\",\"Potential Energy (kJ/mole)\",\"Temperature (K)\"\n",
      "1000,-123574.78641541512,251.7548419395362\n",
      "2000,-118079.72391541512,289.046958705751\n",
      "3000,-116276.66141541512,298.66109638191637\n",
      "4000,-115585.84891541512,306.7239644240748\n",
      "5000,-115697.75516541512,303.3229369849745\n",
      "6000,-115390.06766541512,302.5961171756357\n",
      "7000,-115567.09891541512,300.0767836531827\n",
      "8000,-115848.97391541512,305.36089048544824\n",
      "9000,-115537.53641541512,295.1248893301636\n",
      "10000,-115360.09891541512,296.4517122644438\n"
     ]
    }
   ],
   "source": [
    "simulation.step(10000)"
   ]
  },
  {
   "cell_type": "code",
   "execution_count": 21,
   "id": "e66273c4",
   "metadata": {},
   "outputs": [
    {
     "data": {
      "application/vnd.jupyter.widget-view+json": {
       "model_id": "d1cefdef17af467280b4b7f11bb4c351",
       "version_major": 2,
       "version_minor": 0
      },
      "text/plain": [
       "NGLWidget()"
      ]
     },
     "metadata": {},
     "output_type": "display_data"
    }
   ],
   "source": [
    "view = nv.show_file('tmp/output.pdb')\n",
    "view"
   ]
  }
 ],
 "metadata": {
  "kernelspec": {
   "display_name": "Python 3 (ipykernel)",
   "language": "python",
   "name": "python3"
  },
  "language_info": {
   "codemirror_mode": {
    "name": "ipython",
    "version": 3
   },
   "file_extension": ".py",
   "mimetype": "text/x-python",
   "name": "python",
   "nbconvert_exporter": "python",
   "pygments_lexer": "ipython3",
   "version": "3.8.13"
  }
 },
 "nbformat": 4,
 "nbformat_minor": 5
}
