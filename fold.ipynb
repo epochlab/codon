{
 "cells": [
  {
   "cell_type": "markdown",
   "id": "f5d7b8e1",
   "metadata": {},
   "source": [
    "# Protein Folding | EPOCH Lab 2022"
   ]
  },
  {
   "cell_type": "code",
   "execution_count": 1,
   "id": "a637390a",
   "metadata": {},
   "outputs": [
    {
     "data": {
      "application/vnd.jupyter.widget-view+json": {
       "model_id": "ecf678f18f5e42ecbcb7a6a139b43a49",
       "version_major": 2,
       "version_minor": 0
      },
      "text/plain": []
     },
     "metadata": {},
     "output_type": "display_data"
    }
   ],
   "source": [
    "%matplotlib inline\n",
    "\n",
    "from openmm.app import *\n",
    "from openmm import *\n",
    "from openmm.unit import *\n",
    "from sys import stdout\n",
    "\n",
    "import nglview as nv\n",
    "import pytraj as pt"
   ]
  },
  {
   "cell_type": "code",
   "execution_count": 2,
   "id": "8de256a2",
   "metadata": {},
   "outputs": [],
   "source": [
    "try:\n",
    "  platform = Platform.getPlatformByName(\"CUDA\")\n",
    "except Exception:\n",
    "  platform = Platform.getPlatformByName(\"OpenCL\")"
   ]
  },
  {
   "cell_type": "code",
   "execution_count": 3,
   "id": "5cc2b7ed",
   "metadata": {},
   "outputs": [],
   "source": [
    "pdb = PDBFile('pdb/input.pdb')\n",
    "forcefield = ForceField('amber99sb.xml', 'tip3p.xml')"
   ]
  },
  {
   "cell_type": "code",
   "execution_count": 4,
   "id": "104b516c",
   "metadata": {},
   "outputs": [
    {
     "data": {
      "text/plain": [
       "<Topology; 1 chains, 2798 residues, 8867 atoms, 6111 bonds>"
      ]
     },
     "execution_count": 4,
     "metadata": {},
     "output_type": "execute_result"
    }
   ],
   "source": [
    "modeller = Modeller(pdb.topology, pdb.positions)\n",
    "modeller.addHydrogens(forcefield)\n",
    "modeller.topology"
   ]
  },
  {
   "cell_type": "code",
   "execution_count": 5,
   "id": "42a70fe0",
   "metadata": {},
   "outputs": [],
   "source": [
    "system = forcefield.createSystem(modeller.topology,\n",
    "                                 nonbondedMethod=PME,\n",
    "                                 nonbondedCutoff=1*nanometer,\n",
    "                                 constraints=HBonds)"
   ]
  },
  {
   "cell_type": "code",
   "execution_count": 6,
   "id": "0be319b5",
   "metadata": {},
   "outputs": [],
   "source": [
    "integrator = LangevinIntegrator(300*kelvin, 1/picosecond, 0.002*picoseconds)"
   ]
  },
  {
   "cell_type": "code",
   "execution_count": 7,
   "id": "9187f052",
   "metadata": {},
   "outputs": [],
   "source": [
    "simulation = Simulation(modeller.topology, system, integrator, platform)\n",
    "simulation.context.setPositions(modeller.positions)\n",
    "simulation.minimizeEnergy()\n",
    "simulation.reporters.append(PDBReporter('tmp/output.pdb', 1000))\n",
    "simulation.reporters.append(StateDataReporter(stdout, 1000, step=True, potentialEnergy=True, temperature=True))"
   ]
  },
  {
   "cell_type": "code",
   "execution_count": 8,
   "id": "4c058090",
   "metadata": {},
   "outputs": [
    {
     "name": "stdout",
     "output_type": "stream",
     "text": [
      "#\"Step\",\"Potential Energy (kJ/mole)\",\"Temperature (K)\"\n",
      "1000,-123888.38016541512,250.6780275708333\n",
      "2000,-118179.72391541512,282.37615783903766\n",
      "3000,-116293.28641541512,294.57622244399255\n",
      "4000,-116109.09891541512,293.9801791821925\n",
      "5000,-115624.75516541512,294.0307891944243\n",
      "6000,-115522.94266541512,297.3024670675347\n",
      "7000,-115266.28641541512,299.22106825934816\n",
      "8000,-115805.66141541512,298.7152270769299\n",
      "9000,-115763.31766541512,297.8488450437282\n",
      "10000,-115554.34891541512,301.2164223241092\n"
     ]
    }
   ],
   "source": [
    "simulation.step(10000)"
   ]
  },
  {
   "cell_type": "code",
   "execution_count": 13,
   "id": "82ad4eaf",
   "metadata": {},
   "outputs": [
    {
     "data": {
      "application/vnd.jupyter.widget-view+json": {
       "model_id": "84eb8579dc134d859892df00b31e18a9",
       "version_major": 2,
       "version_minor": 0
      },
      "text/plain": [
       "NGLWidget(max_frame=9)"
      ]
     },
     "metadata": {},
     "output_type": "display_data"
    }
   ],
   "source": [
    "traj = pt.load('tmp/output.pdb')\n",
    "view = nv.show_pytraj(traj)\n",
    "view"
   ]
  }
 ],
 "metadata": {
  "kernelspec": {
   "display_name": "Python 3 (ipykernel)",
   "language": "python",
   "name": "python3"
  },
  "language_info": {
   "codemirror_mode": {
    "name": "ipython",
    "version": 3
   },
   "file_extension": ".py",
   "mimetype": "text/x-python",
   "name": "python",
   "nbconvert_exporter": "python",
   "pygments_lexer": "ipython3",
   "version": "3.8.13"
  }
 },
 "nbformat": 4,
 "nbformat_minor": 5
}
